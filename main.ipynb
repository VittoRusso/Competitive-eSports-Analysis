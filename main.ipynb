{
 "cells": [
  {
   "cell_type": "code",
   "execution_count": 84,
   "metadata": {},
   "outputs": [],
   "source": [
    "import yaml\n",
    "import requests\n",
    "import pandas as pd\n",
    "import time"
   ]
  },
  {
   "cell_type": "code",
   "execution_count": 7,
   "metadata": {},
   "outputs": [
    {
     "name": "stdout",
     "output_type": "stream",
     "text": [
      "{'api_key': 'RGAPI-f725fe94-6c7f-4df4-8969-31e0f62144b4', 'test_key': 4321}\n"
     ]
    }
   ],
   "source": [
    "with open(r'configAPI.yaml') as file:\n",
    "    api_keys = yaml.load(file, Loader=yaml.FullLoader)\n",
    "    print(api_keys)"
   ]
  },
  {
   "cell_type": "code",
   "execution_count": 37,
   "metadata": {},
   "outputs": [],
   "source": [
    "url_leagueTier = 'https://la1.api.riotgames.com/lol/league/v4/entries/RANKED_SOLO_5x5/SILVER/IV?page=3&api_key=' + api_keys['api_key']"
   ]
  },
  {
   "cell_type": "code",
   "execution_count": 38,
   "metadata": {},
   "outputs": [],
   "source": [
    "response = requests.get(url_leagueTier)"
   ]
  },
  {
   "cell_type": "code",
   "execution_count": 54,
   "metadata": {},
   "outputs": [
    {
     "name": "stdout",
     "output_type": "stream",
     "text": [
      "200\n"
     ]
    }
   ],
   "source": [
    "print(response.status_code)"
   ]
  },
  {
   "cell_type": "code",
   "execution_count": 39,
   "metadata": {},
   "outputs": [],
   "source": [
    "playersTier = pd.DataFrame(response.json())"
   ]
  },
  {
   "cell_type": "code",
   "execution_count": 40,
   "metadata": {},
   "outputs": [
    {
     "data": {
      "text/html": [
       "<div>\n",
       "<style scoped>\n",
       "    .dataframe tbody tr th:only-of-type {\n",
       "        vertical-align: middle;\n",
       "    }\n",
       "\n",
       "    .dataframe tbody tr th {\n",
       "        vertical-align: top;\n",
       "    }\n",
       "\n",
       "    .dataframe thead th {\n",
       "        text-align: right;\n",
       "    }\n",
       "</style>\n",
       "<table border=\"1\" class=\"dataframe\">\n",
       "  <thead>\n",
       "    <tr style=\"text-align: right;\">\n",
       "      <th></th>\n",
       "      <th>leagueId</th>\n",
       "      <th>queueType</th>\n",
       "      <th>tier</th>\n",
       "      <th>rank</th>\n",
       "      <th>summonerId</th>\n",
       "      <th>summonerName</th>\n",
       "      <th>leaguePoints</th>\n",
       "      <th>wins</th>\n",
       "      <th>losses</th>\n",
       "      <th>veteran</th>\n",
       "      <th>inactive</th>\n",
       "      <th>freshBlood</th>\n",
       "      <th>hotStreak</th>\n",
       "    </tr>\n",
       "  </thead>\n",
       "  <tbody>\n",
       "    <tr>\n",
       "      <th>0</th>\n",
       "      <td>498b4b98-4e33-4523-b6a4-adfa66cfac31</td>\n",
       "      <td>RANKED_SOLO_5x5</td>\n",
       "      <td>SILVER</td>\n",
       "      <td>IV</td>\n",
       "      <td>-6Juyd10fX1TwKkvvWFEwbB32tiygO6jwE8U5iLpV3I04g</td>\n",
       "      <td>Nezsen</td>\n",
       "      <td>52</td>\n",
       "      <td>119</td>\n",
       "      <td>156</td>\n",
       "      <td>False</td>\n",
       "      <td>False</td>\n",
       "      <td>False</td>\n",
       "      <td>False</td>\n",
       "    </tr>\n",
       "    <tr>\n",
       "      <th>1</th>\n",
       "      <td>00cfdc54-5b63-421f-9d13-2d105aac6ab7</td>\n",
       "      <td>RANKED_SOLO_5x5</td>\n",
       "      <td>SILVER</td>\n",
       "      <td>IV</td>\n",
       "      <td>qaL39xrn4figL3oUGNsDZa67XDng9P0crF20TV5nPrer</td>\n",
       "      <td>raxi0n</td>\n",
       "      <td>75</td>\n",
       "      <td>151</td>\n",
       "      <td>192</td>\n",
       "      <td>False</td>\n",
       "      <td>False</td>\n",
       "      <td>False</td>\n",
       "      <td>False</td>\n",
       "    </tr>\n",
       "    <tr>\n",
       "      <th>2</th>\n",
       "      <td>f9871159-4a16-4d63-8099-bbc7b9f85576</td>\n",
       "      <td>RANKED_SOLO_5x5</td>\n",
       "      <td>SILVER</td>\n",
       "      <td>IV</td>\n",
       "      <td>WX2YsKwFQxSLpJO1-04w1_USyJD1EvA6U-mn0Mx_JmCRSQ</td>\n",
       "      <td>chimuelo123</td>\n",
       "      <td>33</td>\n",
       "      <td>216</td>\n",
       "      <td>252</td>\n",
       "      <td>True</td>\n",
       "      <td>False</td>\n",
       "      <td>False</td>\n",
       "      <td>False</td>\n",
       "    </tr>\n",
       "    <tr>\n",
       "      <th>3</th>\n",
       "      <td>480eabf9-7a84-49a5-b112-ef40bae058d7</td>\n",
       "      <td>RANKED_SOLO_5x5</td>\n",
       "      <td>SILVER</td>\n",
       "      <td>IV</td>\n",
       "      <td>oD2RjL5gu8j68wyj55W3nFuwaMCXLlGiy1bhr9NXkULwXyY</td>\n",
       "      <td>S3Ñ0R R</td>\n",
       "      <td>0</td>\n",
       "      <td>153</td>\n",
       "      <td>158</td>\n",
       "      <td>False</td>\n",
       "      <td>False</td>\n",
       "      <td>False</td>\n",
       "      <td>False</td>\n",
       "    </tr>\n",
       "    <tr>\n",
       "      <th>4</th>\n",
       "      <td>6f6ccfd7-7ce8-4ac9-a274-08c6be737e89</td>\n",
       "      <td>RANKED_SOLO_5x5</td>\n",
       "      <td>SILVER</td>\n",
       "      <td>IV</td>\n",
       "      <td>JjI1krsDoCQgVAMuWBdm4XrfQYMzmD5KZyHrcaAw0EYLF1g</td>\n",
       "      <td>santy6221</td>\n",
       "      <td>14</td>\n",
       "      <td>5</td>\n",
       "      <td>21</td>\n",
       "      <td>False</td>\n",
       "      <td>False</td>\n",
       "      <td>False</td>\n",
       "      <td>False</td>\n",
       "    </tr>\n",
       "  </tbody>\n",
       "</table>\n",
       "</div>"
      ],
      "text/plain": [
       "                               leagueId        queueType    tier rank  \\\n",
       "0  498b4b98-4e33-4523-b6a4-adfa66cfac31  RANKED_SOLO_5x5  SILVER   IV   \n",
       "1  00cfdc54-5b63-421f-9d13-2d105aac6ab7  RANKED_SOLO_5x5  SILVER   IV   \n",
       "2  f9871159-4a16-4d63-8099-bbc7b9f85576  RANKED_SOLO_5x5  SILVER   IV   \n",
       "3  480eabf9-7a84-49a5-b112-ef40bae058d7  RANKED_SOLO_5x5  SILVER   IV   \n",
       "4  6f6ccfd7-7ce8-4ac9-a274-08c6be737e89  RANKED_SOLO_5x5  SILVER   IV   \n",
       "\n",
       "                                        summonerId summonerName  leaguePoints  \\\n",
       "0   -6Juyd10fX1TwKkvvWFEwbB32tiygO6jwE8U5iLpV3I04g       Nezsen            52   \n",
       "1     qaL39xrn4figL3oUGNsDZa67XDng9P0crF20TV5nPrer       raxi0n            75   \n",
       "2   WX2YsKwFQxSLpJO1-04w1_USyJD1EvA6U-mn0Mx_JmCRSQ  chimuelo123            33   \n",
       "3  oD2RjL5gu8j68wyj55W3nFuwaMCXLlGiy1bhr9NXkULwXyY      S3Ñ0R R             0   \n",
       "4  JjI1krsDoCQgVAMuWBdm4XrfQYMzmD5KZyHrcaAw0EYLF1g    santy6221            14   \n",
       "\n",
       "   wins  losses  veteran  inactive  freshBlood  hotStreak  \n",
       "0   119     156    False     False       False      False  \n",
       "1   151     192    False     False       False      False  \n",
       "2   216     252     True     False       False      False  \n",
       "3   153     158    False     False       False      False  \n",
       "4     5      21    False     False       False      False  "
      ]
     },
     "execution_count": 40,
     "metadata": {},
     "output_type": "execute_result"
    }
   ],
   "source": [
    "playersTier.head(5)"
   ]
  },
  {
   "cell_type": "code",
   "execution_count": 41,
   "metadata": {},
   "outputs": [
    {
     "data": {
      "text/plain": [
       "(205, 13)"
      ]
     },
     "execution_count": 41,
     "metadata": {},
     "output_type": "execute_result"
    }
   ],
   "source": [
    "playersTier.shape"
   ]
  },
  {
   "cell_type": "code",
   "execution_count": 42,
   "metadata": {},
   "outputs": [
    {
     "data": {
      "text/html": [
       "<div>\n",
       "<style scoped>\n",
       "    .dataframe tbody tr th:only-of-type {\n",
       "        vertical-align: middle;\n",
       "    }\n",
       "\n",
       "    .dataframe tbody tr th {\n",
       "        vertical-align: top;\n",
       "    }\n",
       "\n",
       "    .dataframe thead th {\n",
       "        text-align: right;\n",
       "    }\n",
       "</style>\n",
       "<table border=\"1\" class=\"dataframe\">\n",
       "  <thead>\n",
       "    <tr style=\"text-align: right;\">\n",
       "      <th></th>\n",
       "      <th>leagueId</th>\n",
       "      <th>queueType</th>\n",
       "      <th>tier</th>\n",
       "      <th>rank</th>\n",
       "      <th>summonerId</th>\n",
       "      <th>summonerName</th>\n",
       "      <th>leaguePoints</th>\n",
       "      <th>wins</th>\n",
       "      <th>losses</th>\n",
       "      <th>veteran</th>\n",
       "      <th>inactive</th>\n",
       "      <th>freshBlood</th>\n",
       "      <th>hotStreak</th>\n",
       "    </tr>\n",
       "  </thead>\n",
       "  <tbody>\n",
       "  </tbody>\n",
       "</table>\n",
       "</div>"
      ],
      "text/plain": [
       "Empty DataFrame\n",
       "Columns: [leagueId, queueType, tier, rank, summonerId, summonerName, leaguePoints, wins, losses, veteran, inactive, freshBlood, hotStreak]\n",
       "Index: []"
      ]
     },
     "execution_count": 42,
     "metadata": {},
     "output_type": "execute_result"
    }
   ],
   "source": [
    "playersTier.loc[playersTier['summonerName'] == 'haroldovlz']"
   ]
  },
  {
   "cell_type": "code",
   "execution_count": 86,
   "metadata": {},
   "outputs": [],
   "source": [
    "maxPages = 10\n",
    "\n",
    "ranks = ['SILVER', 'GOLD', 'PLATINUM', 'DIAMOND']\n",
    "\n",
    "dfList = []\n",
    "\n",
    "for tier in ranks:\n",
    "    for i in range(1, maxPages):\n",
    "\n",
    "        url_leagueTier = 'https://la1.api.riotgames.com/lol/league/v4/entries/RANKED_SOLO_5x5/' + tier + '/IV?page=' + str(i) + '&api_key=' + api_keys['api_key']\n",
    "        response = requests.get(url_leagueTier)\n",
    "\n",
    "        if response.status_code == 200:\n",
    "            tempDF = pd.DataFrame(response.json())\n",
    "            dfList.append(tempDF)\n",
    "        else:\n",
    "            print('For i = {}, status code: {}'.format(i, response.status_code))\n",
    "            break\n",
    "    time.sleep(1)\n",
    "    \n",
    "playersTier = pd.concat(dfList)"
   ]
  },
  {
   "cell_type": "code",
   "execution_count": 87,
   "metadata": {},
   "outputs": [
    {
     "data": {
      "text/plain": [
       "(7380, 13)"
      ]
     },
     "execution_count": 87,
     "metadata": {},
     "output_type": "execute_result"
    }
   ],
   "source": [
    "playersTier.shape"
   ]
  },
  {
   "cell_type": "code",
   "execution_count": 88,
   "metadata": {},
   "outputs": [
    {
     "data": {
      "text/html": [
       "<div>\n",
       "<style scoped>\n",
       "    .dataframe tbody tr th:only-of-type {\n",
       "        vertical-align: middle;\n",
       "    }\n",
       "\n",
       "    .dataframe tbody tr th {\n",
       "        vertical-align: top;\n",
       "    }\n",
       "\n",
       "    .dataframe thead th {\n",
       "        text-align: right;\n",
       "    }\n",
       "</style>\n",
       "<table border=\"1\" class=\"dataframe\">\n",
       "  <thead>\n",
       "    <tr style=\"text-align: right;\">\n",
       "      <th></th>\n",
       "      <th>leagueId</th>\n",
       "      <th>queueType</th>\n",
       "      <th>tier</th>\n",
       "      <th>rank</th>\n",
       "      <th>summonerId</th>\n",
       "      <th>summonerName</th>\n",
       "      <th>leaguePoints</th>\n",
       "      <th>wins</th>\n",
       "      <th>losses</th>\n",
       "      <th>veteran</th>\n",
       "      <th>inactive</th>\n",
       "      <th>freshBlood</th>\n",
       "      <th>hotStreak</th>\n",
       "    </tr>\n",
       "  </thead>\n",
       "  <tbody>\n",
       "    <tr>\n",
       "      <th>0</th>\n",
       "      <td>a47dd1a8-b30f-45e7-a8d3-9c58f67e5d8a</td>\n",
       "      <td>RANKED_SOLO_5x5</td>\n",
       "      <td>SILVER</td>\n",
       "      <td>IV</td>\n",
       "      <td>etPOwO4F5dz6Mfw7SCfh_o61ICDD91-xyJKScZsY-32Xt0U</td>\n",
       "      <td>BIGKINGjr</td>\n",
       "      <td>1</td>\n",
       "      <td>8</td>\n",
       "      <td>6</td>\n",
       "      <td>False</td>\n",
       "      <td>False</td>\n",
       "      <td>True</td>\n",
       "      <td>True</td>\n",
       "    </tr>\n",
       "    <tr>\n",
       "      <th>1</th>\n",
       "      <td>5ab1597f-e9be-43a6-a616-46c99e06527b</td>\n",
       "      <td>RANKED_SOLO_5x5</td>\n",
       "      <td>SILVER</td>\n",
       "      <td>IV</td>\n",
       "      <td>FCYNWXmIupa5477zkXYA9GGF7-X6wGl_Jkealir047kwzCU</td>\n",
       "      <td>TheMaster Psycho</td>\n",
       "      <td>17</td>\n",
       "      <td>171</td>\n",
       "      <td>223</td>\n",
       "      <td>True</td>\n",
       "      <td>False</td>\n",
       "      <td>False</td>\n",
       "      <td>False</td>\n",
       "    </tr>\n",
       "    <tr>\n",
       "      <th>2</th>\n",
       "      <td>ab50f621-597e-4a5d-8208-aa07c664686f</td>\n",
       "      <td>RANKED_SOLO_5x5</td>\n",
       "      <td>SILVER</td>\n",
       "      <td>IV</td>\n",
       "      <td>bYIw-MIAL4LRjbBrj3OXP_27wgujVNUh4kqhZenGSPHo3BI</td>\n",
       "      <td>Este No Es Nea</td>\n",
       "      <td>3</td>\n",
       "      <td>32</td>\n",
       "      <td>36</td>\n",
       "      <td>False</td>\n",
       "      <td>False</td>\n",
       "      <td>False</td>\n",
       "      <td>False</td>\n",
       "    </tr>\n",
       "    <tr>\n",
       "      <th>3</th>\n",
       "      <td>8ad094f7-72eb-4b23-b005-a762e7dc6989</td>\n",
       "      <td>RANKED_SOLO_5x5</td>\n",
       "      <td>SILVER</td>\n",
       "      <td>IV</td>\n",
       "      <td>kfeki0H9v0nTrXiF_g6lhSUVA6ZioXYrYOfRTi-ek0z0UMQ</td>\n",
       "      <td>Altimor21</td>\n",
       "      <td>6</td>\n",
       "      <td>84</td>\n",
       "      <td>96</td>\n",
       "      <td>False</td>\n",
       "      <td>False</td>\n",
       "      <td>False</td>\n",
       "      <td>False</td>\n",
       "    </tr>\n",
       "    <tr>\n",
       "      <th>4</th>\n",
       "      <td>b21fa4a9-b71e-45d1-9a56-f350e6dacc6d</td>\n",
       "      <td>RANKED_SOLO_5x5</td>\n",
       "      <td>SILVER</td>\n",
       "      <td>IV</td>\n",
       "      <td>chh3KBPMtSr0_M4lA8FnZR2WJosd7eukl0xNe8cKcAdZRWQ</td>\n",
       "      <td>XxXTAZ123</td>\n",
       "      <td>30</td>\n",
       "      <td>124</td>\n",
       "      <td>147</td>\n",
       "      <td>False</td>\n",
       "      <td>False</td>\n",
       "      <td>False</td>\n",
       "      <td>False</td>\n",
       "    </tr>\n",
       "  </tbody>\n",
       "</table>\n",
       "</div>"
      ],
      "text/plain": [
       "                               leagueId        queueType    tier rank  \\\n",
       "0  a47dd1a8-b30f-45e7-a8d3-9c58f67e5d8a  RANKED_SOLO_5x5  SILVER   IV   \n",
       "1  5ab1597f-e9be-43a6-a616-46c99e06527b  RANKED_SOLO_5x5  SILVER   IV   \n",
       "2  ab50f621-597e-4a5d-8208-aa07c664686f  RANKED_SOLO_5x5  SILVER   IV   \n",
       "3  8ad094f7-72eb-4b23-b005-a762e7dc6989  RANKED_SOLO_5x5  SILVER   IV   \n",
       "4  b21fa4a9-b71e-45d1-9a56-f350e6dacc6d  RANKED_SOLO_5x5  SILVER   IV   \n",
       "\n",
       "                                        summonerId      summonerName  \\\n",
       "0  etPOwO4F5dz6Mfw7SCfh_o61ICDD91-xyJKScZsY-32Xt0U         BIGKINGjr   \n",
       "1  FCYNWXmIupa5477zkXYA9GGF7-X6wGl_Jkealir047kwzCU  TheMaster Psycho   \n",
       "2  bYIw-MIAL4LRjbBrj3OXP_27wgujVNUh4kqhZenGSPHo3BI    Este No Es Nea   \n",
       "3  kfeki0H9v0nTrXiF_g6lhSUVA6ZioXYrYOfRTi-ek0z0UMQ         Altimor21   \n",
       "4  chh3KBPMtSr0_M4lA8FnZR2WJosd7eukl0xNe8cKcAdZRWQ         XxXTAZ123   \n",
       "\n",
       "   leaguePoints  wins  losses  veteran  inactive  freshBlood  hotStreak  \n",
       "0             1     8       6    False     False        True       True  \n",
       "1            17   171     223     True     False       False      False  \n",
       "2             3    32      36    False     False       False      False  \n",
       "3             6    84      96    False     False       False      False  \n",
       "4            30   124     147    False     False       False      False  "
      ]
     },
     "execution_count": 88,
     "metadata": {},
     "output_type": "execute_result"
    }
   ],
   "source": [
    "playersTier.head()"
   ]
  },
  {
   "cell_type": "code",
   "execution_count": 89,
   "metadata": {},
   "outputs": [
    {
     "data": {
      "text/plain": [
       "SILVER      1845\n",
       "PLATINUM    1845\n",
       "DIAMOND     1845\n",
       "GOLD        1845\n",
       "Name: tier, dtype: int64"
      ]
     },
     "execution_count": 89,
     "metadata": {},
     "output_type": "execute_result"
    }
   ],
   "source": [
    "playersTier['tier'].value_counts()"
   ]
  },
  {
   "cell_type": "code",
   "execution_count": null,
   "metadata": {},
   "outputs": [],
   "source": []
  }
 ],
 "metadata": {
  "kernelspec": {
   "display_name": "Python 3",
   "language": "python",
   "name": "python3"
  },
  "language_info": {
   "codemirror_mode": {
    "name": "ipython",
    "version": 3
   },
   "file_extension": ".py",
   "mimetype": "text/x-python",
   "name": "python",
   "nbconvert_exporter": "python",
   "pygments_lexer": "ipython3",
   "version": "3.7.4"
  }
 },
 "nbformat": 4,
 "nbformat_minor": 4
}
